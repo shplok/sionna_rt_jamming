{
 "cells": [
  {
   "cell_type": "code",
   "execution_count": null,
   "id": "de1ef3b4",
   "metadata": {},
   "outputs": [],
   "source": [
    "import mitsuba as mi\n",
    "import drjit as dr\n",
    "import numpy as np\n",
    "from sionna.rt import load_scene, Transmitter, Receiver, Camera\n",
    "import matplotlib.pyplot as plt"
   ]
  },
  {
   "cell_type": "code",
   "execution_count": null,
   "id": "ea95ddd9",
   "metadata": {},
   "outputs": [],
   "source": [
    "mi.set_variant(\"llvm_ad_mono_polarized\")"
   ]
  },
  {
   "cell_type": "code",
   "execution_count": null,
   "id": "d217c79c",
   "metadata": {},
   "outputs": [],
   "source": [
    "import sionna.rt as rt"
   ]
  },
  {
   "cell_type": "code",
   "execution_count": null,
   "id": "df263e1a",
   "metadata": {},
   "outputs": [],
   "source": [
    "scene_path = r\"C:\\Users\\sawyer\\Documents\\sionna_rt_jamming\\data\\downtown_chicago\\DowntownChicago1KM.xml\"\n",
    "# concrete for floor/walls, metal for roofs\n",
    "scene = load_scene(scene_path)"
   ]
  },
  {
   "cell_type": "code",
   "execution_count": null,
   "id": "dad938cf",
   "metadata": {},
   "outputs": [],
   "source": [
    "overhead = Camera(position=(0.0, 0.0, 2000.0))\n",
    "overhead.look_at((0.0,0.0,0.0))\n",
    "scene.render(camera=overhead)\n",
    "\n",
    "isometric = Camera(position=(1200.0, 1200.0, 1200.0))\n",
    "isometric.look_at((0.0,0.0,0.0))\n",
    "scene.render(camera=isometric)\n",
    "\n",
    "# Camera on render should be Z up, Y forwards!"
   ]
  },
  {
   "cell_type": "code",
   "execution_count": null,
   "id": "d079a24f",
   "metadata": {},
   "outputs": [],
   "source": [
    "# Set up antenna arrays\n",
    "scene.tx_array = rt.PlanarArray(num_rows=1, num_cols=1, pattern=\"iso\", polarization=\"V\")\n",
    "scene.rx_array = rt.PlanarArray(num_rows=1, num_cols=1, pattern=\"iso\", polarization=\"V\")\n",
    "\n",
    "# Add Transmitter\n",
    "tx = Transmitter(name=\"Tx1\", position=[70,-10,10], color=[1.0, 0.0, 0.0])\n",
    "scene.add(tx)\n",
    "# Visualize scene with transmitter and receivers in place\n",
    "cam = Camera(position=(0.0, 0.0, 2000.0))\n",
    "cam.look_at((0.0, 0.0, 0.0)) \n",
    "scene.render(camera=cam)"
   ]
  },
  {
   "cell_type": "code",
   "execution_count": null,
   "id": "a731c0de",
   "metadata": {},
   "outputs": [],
   "source": [
    "x_min, x_max = -500, 500\n",
    "y_min, y_max = -500, 500\n",
    "z_height = 10\n",
    "\n",
    "num_x = 40\n",
    "num_y = 40\n",
    "\n",
    "x_coords = np.linspace(x_min, x_max, num_x)\n",
    "y_coords = np.linspace(y_min, y_max, num_y)\n",
    "X, Y = np.meshgrid(x_coords, y_coords)\n",
    "\n",
    "x_flat = X.flatten()\n",
    "y_flat = Y.flatten()\n",
    "\n",
    "print(f\"Total receivers: {len(x_flat)}\")\n",
    "\n",
    "# %%\n",
    "# Add all receivers to scene\n",
    "for i, (x, y) in enumerate(zip(x_flat, y_flat)):\n",
    "    rx = Receiver(name=f\"Rx_{i}\", position=[float(x), float(y), float(z_height)], color=[0.4, 0.8, 0.4])\n",
    "    scene.add(rx)\n",
    "\n",
    "\n",
    "# Visualize scene with transmitter and receivers in place\n",
    "cam = Camera(position=(0.0, 0.0, 2000.0))\n",
    "cam.look_at((0.0, 0.0, 0.0)) \n",
    "scene.render(camera=cam)\n"
   ]
  },
  {
   "cell_type": "code",
   "execution_count": null,
   "id": "4a273133",
   "metadata": {},
   "outputs": [],
   "source": [
    "# Compute paths for all receivers\n",
    "path_solver = rt.PathSolver()\n",
    "\n",
    "power_grid = np.zeros((num_y, num_x))\n",
    "path_count_grid = np.zeros((num_y, num_x))\n",
    "\n",
    "# Compute paths once for all receivers\n",
    "paths = path_solver(scene, max_depth=3)\n",
    "\n",
    "# Get channel impulse response\n",
    "a_list, tau_list = paths.cir()\n",
    "a = np.array(a_list)\n",
    "tau = np.array(tau_list)\n",
    "\n",
    "print(f\"CIR shape: {a.shape}\")\n",
    "print(f\"Expected: [batch, num_rx, num_rx_ant, num_tx, num_tx_ant, num_paths, num_time_steps]\")\n",
    "\n",
    "# %%\n",
    "# Process each receiver from the CIR\n",
    "for i in range(len(x_flat)):\n",
    "    # Extract CIR for receiver i\n",
    "    # Shape should be [1, num_rx, num_rx_ant, num_tx, num_tx_ant, num_paths, ...]\n",
    "    a_rx = a[0, i, 0, 0, 0, :, :]  # adjust indexing based on actual shape\n",
    "    \n",
    "    # Total received power\n",
    "    power_linear = np.sum(np.abs(a_rx)**2)\n",
    "    \n",
    "    # Store in grid\n",
    "    row = i // num_x\n",
    "    col = i % num_x\n",
    "    power_grid[row, col] = power_linear\n",
    "    path_count_grid[row, col] = a_rx.shape[0]  # number of paths\n",
    "    \n",
    "    if i % 50 == 0:\n",
    "        print(f\"Processed {i}/{len(x_flat)} receivers\")\n",
    "\n",
    "# Convert to dB\n",
    "power_grid_db = 10 * np.log10(power_grid + 1e-12)\n",
    "\n",
    "print(f\"\\nPower range: {power_grid_db.min():.2f} to {power_grid_db.max():.2f} dB\")"
   ]
  },
  {
   "cell_type": "code",
   "execution_count": null,
   "id": "4e490281",
   "metadata": {},
   "outputs": [],
   "source": [
    "# 3D Surface plot of received power\n",
    "from mpl_toolkits.mplot3d import Axes3D\n",
    "\n",
    "fig = plt.figure(figsize=(12, 9))\n",
    "ax = fig.add_subplot(111, projection='3d')\n",
    "\n",
    "surf = ax.plot_surface(X, Y, power_grid_db, cmap='viridis', \n",
    "                       edgecolor='none', alpha=0.9)\n",
    "\n",
    "ax.set_xlabel('X (m)')\n",
    "ax.set_ylabel('Y (m)')\n",
    "ax.set_zlabel('Power (dB)')\n",
    "ax.set_title('Received Power Coverage (3D)')\n",
    "\n",
    "# Add transmitter location\n",
    "ax.scatter([0], [0], [power_grid_db.max()], color='red', s=200, marker='*', label='Tx1')\n",
    "\n",
    "fig.colorbar(surf, ax=ax, shrink=0.5, label='Power (dB)')\n",
    "ax.legend()\n",
    "plt.show()\n",
    "\n",
    "# %%\n",
    "# 3D Surface plot of path count\n",
    "fig = plt.figure(figsize=(12, 9))\n",
    "ax = fig.add_subplot(111, projection='3d')\n",
    "\n",
    "surf = ax.plot_surface(X, Y, path_count_grid, cmap='plasma', \n",
    "                       edgecolor='none', alpha=0.9)\n",
    "\n",
    "ax.set_xlabel('X (m)')\n",
    "ax.set_ylabel('Y (m)')\n",
    "ax.set_zlabel('Number of Paths')\n",
    "ax.set_title('Propagation Path Count (3D)')\n",
    "\n",
    "# Add transmitter location\n",
    "ax.scatter([0], [0], [path_count_grid.max()], color='red', s=200, marker='*', label='Tx1')\n",
    "\n",
    "fig.colorbar(surf, ax=ax, shrink=0.5, label='Path Count')\n",
    "ax.legend()\n",
    "plt.show()\n"
   ]
  }
 ],
 "metadata": {
  "kernelspec": {
   "display_name": "Python 3",
   "language": "python",
   "name": "python3"
  },
  "language_info": {
   "codemirror_mode": {
    "name": "ipython",
    "version": 3
   },
   "file_extension": ".py",
   "mimetype": "text/x-python",
   "name": "python",
   "nbconvert_exporter": "python",
   "pygments_lexer": "ipython3",
   "version": "3.11.9"
  }
 },
 "nbformat": 4,
 "nbformat_minor": 5
}
