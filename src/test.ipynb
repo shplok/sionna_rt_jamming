{
 "cells": [
  {
   "cell_type": "code",
   "execution_count": null,
   "id": "de1ef3b4",
   "metadata": {},
   "outputs": [],
   "source": [
    "import mitsuba as mi\n",
    "import drjit as dr\n",
    "import numpy as np\n",
    "from sionna.rt import load_scene, Transmitter, Receiver, Camera"
   ]
  },
  {
   "cell_type": "code",
   "execution_count": null,
   "id": "ea95ddd9",
   "metadata": {},
   "outputs": [],
   "source": [
    "mi.set_variant(\"llvm_ad_mono_polarized\")"
   ]
  },
  {
   "cell_type": "code",
   "execution_count": null,
   "id": "d217c79c",
   "metadata": {},
   "outputs": [],
   "source": [
    "import sionna.rt as rt"
   ]
  },
  {
   "cell_type": "code",
   "execution_count": null,
   "id": "df263e1a",
   "metadata": {},
   "outputs": [],
   "source": [
    "scene_path = r\"C:\\Users\\sawyer\\Documents\\sionna_rt_jamming\\data\\downtown_chicago\\DowntownChicago1KM.xml\"\n",
    "# concrete for floor/walls, metal for roofs\n",
    "scene = load_scene(scene_path)"
   ]
  },
  {
   "cell_type": "code",
   "execution_count": null,
   "id": "dad938cf",
   "metadata": {},
   "outputs": [],
   "source": [
    "overhead = Camera(position=(0.0, 0.0, 2000.0))\n",
    "overhead.look_at((0.0,0.0,0.0))\n",
    "scene.render(camera=overhead)\n",
    "\n",
    "isometric = Camera(position=(2000.0, 2000.0, 2000.0))\n",
    "isometric.look_at((0.0,0.0,0.0))\n",
    "scene.render(camera=isometric)\n",
    "\n",
    "# Camera on render should be Z up, Y forwards!"
   ]
  },
  {
   "cell_type": "code",
   "execution_count": null,
   "id": "d079a24f",
   "metadata": {},
   "outputs": [],
   "source": [
    "# Set up antenna arrays\n",
    "scene.tx_array = rt.PlanarArray(num_rows=1, num_cols=1, pattern=\"iso\", polarization=\"V\")\n",
    "scene.rx_array = rt.PlanarArray(num_rows=1, num_cols=1, pattern=\"iso\", polarization=\"V\")\n",
    "\n",
    "# Add Transmitter and Receiver\n",
    "tx = Transmitter(name=\"Tx1\", position=[0,0,10], color=[1.0, 0.0, 0.0])\n",
    "rx = Receiver(name=\"Rx1\", position=[60,20,10], color=[0.4, 0.8, 0.4])\n",
    "scene.add(tx)\n",
    "scene.add(rx)\n",
    "\n",
    "# Visualize scene with transmitter and receiver in place\n",
    "cam = Camera(position=(0.0, 0.0, 2000.0))\n",
    "cam.look_at((0.0, 0.0, 0.0)) \n",
    "scene.render(camera=cam)\n"
   ]
  },
  {
   "cell_type": "code",
   "execution_count": null,
   "id": "4a273133",
   "metadata": {},
   "outputs": [],
   "source": [
    "print(\"Computing propagation paths...\")\n",
    "path_solver = rt.PathSolver()\n",
    "paths = path_solver(scene, max_depth=3)\n",
    "print(\"Path computation done.\")\n",
    "\n",
    "# %%\n",
    "# Get channel impulse response\n",
    "a_list, tau_list = paths.cir()\n",
    "\n",
    "# Convert to numpy arrays\n",
    "a = np.array(a_list)\n",
    "tau = np.array(tau_list)\n",
    "\n",
    "print(\"Channel impulse response shape:\", a.shape)\n",
    "print(\"Delays (tau):\", tau)\n",
    "\n",
    "# %%\n",
    "# Total received power (summing all paths and delays)\n",
    "power_linear = np.sum(np.abs(a)**2)\n",
    "power_db = 10 * np.log10(power_linear + 1e-12)\n",
    "\n",
    "print(f\"\\n=== Signal Strength (Tx1 → Rx1) ===\")\n",
    "print(f\"Power (linear): {power_linear:.6e}\")\n",
    "print(f\"Power (dB): {power_db:.2f} dB\")\n",
    "print(f\"\\nChannel shape: {a.shape}\")"
   ]
  },
  {
   "cell_type": "code",
   "execution_count": null,
   "id": "7256ced8",
   "metadata": {},
   "outputs": [],
   "source": [
    "# Render Paths\n",
    "scene.preview(paths=paths, resolution=[1200, 800], clip_at=15.)"
   ]
  }
 ],
 "metadata": {
  "kernelspec": {
   "display_name": "Python 3",
   "language": "python",
   "name": "python3"
  },
  "language_info": {
   "codemirror_mode": {
    "name": "ipython",
    "version": 3
   },
   "file_extension": ".py",
   "mimetype": "text/x-python",
   "name": "python",
   "nbconvert_exporter": "python",
   "pygments_lexer": "ipython3",
   "version": "3.11.9"
  }
 },
 "nbformat": 4,
 "nbformat_minor": 5
}
